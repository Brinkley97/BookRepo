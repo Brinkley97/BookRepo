{
 "cells": [
  {
   "cell_type": "code",
   "execution_count": 1,
   "id": "5a6065bb-bc8d-4516-a1f3-7a21db2a379a",
   "metadata": {},
   "outputs": [],
   "source": [
    "import numpy as np\n",
    "import pandas as pd\n",
    "import matplotlib.pyplot as plt"
   ]
  },
  {
   "cell_type": "markdown",
   "id": "fbd05a5e-f3ac-4767-a427-90f0a587f437",
   "metadata": {},
   "source": [
    "---\n",
    "\n",
    "## Table View of Entire Data"
   ]
  },
  {
   "cell_type": "code",
   "execution_count": 2,
   "id": "a5e2c7f3-3884-4366-9140-e29e036517ea",
   "metadata": {},
   "outputs": [
    {
     "name": "stdout",
     "output_type": "stream",
     "text": [
      "      amount            timestamp   user\n",
      "0       25.0  2017-11-12 11:13:44    0.0\n",
      "1       50.0  2015-08-25 19:01:45    0.0\n",
      "2       25.0  2015-03-26 12:03:47    0.0\n",
      "3       50.0  2016-07-06 12:24:55    0.0\n",
      "4       50.0  2016-05-11 18:13:04    1.0\n",
      "...      ...                  ...    ...\n",
      "2671    25.0  2016-09-02 11:20:00  992.0\n",
      "2672    50.0  2017-11-02 12:17:06  993.0\n",
      "2673  1000.0  2016-09-13 21:09:47  995.0\n",
      "2674  1000.0  2017-09-29 20:03:01  995.0\n",
      "2675    50.0  2018-01-03 19:24:24  998.0\n",
      "\n",
      "[2676 rows x 3 columns]\n"
     ]
    }
   ],
   "source": [
    "data = pd.read_csv(\"../Ch02/data/donations.csv\")\n",
    "print(data)"
   ]
  },
  {
   "cell_type": "markdown",
   "id": "01ae21a4-9bb0-4304-b215-ff90b28a0d78",
   "metadata": {},
   "source": [
    "--- \n",
    "\n",
    "## Stats to Calculate\n",
    "\n",
    "1. [x] Mean amount in donations.cvs\n",
    "\n",
    "2. [x] Median amount in donations.cvs\n",
    "\n",
    "3. [x] Mode for amount in donations.cvs\n",
    "\n",
    "4. [x] Range for amount in donations.cvs\n",
    "\n",
    "5. [ ] Periodicity of entire donations.cvs + see questions below\n",
    "\n",
    "6. [ ] Outliers for amount in donations.cvs\n",
    "\n",
    "7. [x] Standard deviation for amount in donations.cvs"
   ]
  },
  {
   "cell_type": "code",
   "execution_count": null,
   "id": "2b1cdbdc-62a4-4571-9e22-1df9475be561",
   "metadata": {},
   "outputs": [],
   "source": [
    "def get_amount_stats(total, mean, median, mode, interval, sd) :\n",
    "\n",
    "    amount_stats = []\n",
    "    amount_dict = {}\n",
    "    \n",
    "    amount_stats.append(total)\n",
    "    amount_stats.append(mean)\n",
    "    amount_stats.append(median)\n",
    "    amount_stats.append(mode)\n",
    "    amount_stats.append(interval)\n",
    "    amount_stats.append(sd)\n",
    "    \n",
    "    amount_names = [\"total\", \"mean\", \"median\", \"mode\", \"interval\", \"sd\"]\n",
    "    # print(\"amount_stats : \", amount_stats)\n",
    "    \n",
    "    \n",
    "    for key in amount_names :\n",
    "        # print(\"key : \", key)\n",
    "        for value in amount_stats :\n",
    "            # print(\"value : \", value)\n",
    "            amount_dict[key] = value\n",
    "            amount_stats.remove(value)\n",
    "            \n",
    "#            break statement in Python terminates the current loop and resumes execution at the next statement which means to \n",
    "#                populate, then break to go to next key : value pair\n",
    "            break\n",
    "    return amount_dict"
   ]
  },
  {
   "cell_type": "code",
   "execution_count": null,
   "id": "489c94ba-aa16-496e-96a3-671418d5669c",
   "metadata": {},
   "outputs": [],
   "source": [
    "amt = 'amount'\n",
    "\n",
    "amt_total = data[amt].sum()\n",
    "# print(\"amt_total : \", amt_total, \"\\n\")\n",
    "\n",
    "amt_mean = data[amt].mean()\n",
    "# print(\"amt_mean : \", amt_mean)\n",
    "\n",
    "amt_median = data[amt].median()\n",
    "\n",
    "amt_max = data[amt].max()\n",
    "amt_min = data[amt].min()\n",
    "amt_range = amt_max - amt_min\n",
    "\n",
    "amt_sd = data[amt].std()"
   ]
  },
  {
   "cell_type": "code",
   "execution_count": null,
   "id": "a3398a09-0968-46f5-bf79-b74dd75daceb",
   "metadata": {},
   "outputs": [],
   "source": [
    "get_amount_stats(amt_total, amt_mean, amt_median, amt_max, amt_range, amt_sd)"
   ]
  },
  {
   "cell_type": "markdown",
   "id": "25a7d42b-637a-44ca-bba5-aa30867b149c",
   "metadata": {},
   "source": [
    "---\n",
    "\n",
    "## Total Amout per User"
   ]
  },
  {
   "cell_type": "code",
   "execution_count": null,
   "id": "c3b40925-2fb8-4fb0-b332-eb5813d24a42",
   "metadata": {},
   "outputs": [],
   "source": [
    "each_user_total = data.groupby(['user']).sum()\n",
    "print(\"each_user_total : \\n\", each_user_total)"
   ]
  },
  {
   "cell_type": "markdown",
   "id": "463a560c-8bb8-4f15-af72-84e6ee5122aa",
   "metadata": {},
   "source": [
    "---\n",
    "\n",
    "## Average Amout per User"
   ]
  },
  {
   "cell_type": "code",
   "execution_count": null,
   "id": "9e5ef5a4-6c1d-47b7-9843-11a585d967ba",
   "metadata": {},
   "outputs": [],
   "source": [
    "each_user_avg = data.groupby(['user']).mean()\n",
    "print(\"each_user_total : \\n\", each_user_avg)"
   ]
  },
  {
   "cell_type": "markdown",
   "id": "dee27986-138d-49af-a0cd-a886f7d9cf59",
   "metadata": {},
   "source": [
    "---\n",
    "\n",
    "## Group each person by amount?"
   ]
  },
  {
   "cell_type": "code",
   "execution_count": null,
   "id": "19725bf3-95fd-450f-a9cd-ab02c70fc621",
   "metadata": {},
   "outputs": [],
   "source": [
    "plot_hist = data.plot.hist(x = 'user', y = 'amount')"
   ]
  },
  {
   "cell_type": "markdown",
   "id": "a3f45f04-65ec-4f1b-8463-70ed674fd323",
   "metadata": {
    "tags": []
   },
   "source": [
    "## Periodicity\n",
    "\n",
    "- *For each question, ask myself what's the best graph to use & why?*\n",
    "\n",
    "---\n",
    "\n",
    "1. [ ] Can I find & graph the total amount donated per year? Quarter? Month? Week? Day?\n",
    "    - This could lead to having a model predict how much could be donated in the future\n",
    "\n",
    "2. [ ] Can I find & graph the average amount donated per year? Quarter? Month? Week? Day?\n",
    "\n",
    "3. [ ] What pattern can I recognize w/ the graphs? Trend? Seasonal? Cyclic? Any irregularity? Stationary?"
   ]
  },
  {
   "cell_type": "code",
   "execution_count": 8,
   "id": "687bfa7b-b2a7-4728-b275-e04f5b0b3f1d",
   "metadata": {},
   "outputs": [
    {
     "name": "stdout",
     "output_type": "stream",
     "text": [
      "dates : \n",
      " 0       2017-11-12 11:13:44\n",
      "1       2015-08-25 19:01:45\n",
      "2       2015-03-26 12:03:47\n",
      "3       2016-07-06 12:24:55\n",
      "4       2016-05-11 18:13:04\n",
      "               ...         \n",
      "2671    2016-09-02 11:20:00\n",
      "2672    2017-11-02 12:17:06\n",
      "2673    2016-09-13 21:09:47\n",
      "2674    2017-09-29 20:03:01\n",
      "2675    2018-01-03 19:24:24\n",
      "Name: timestamp, Length: 2676, dtype: object\n"
     ]
    }
   ],
   "source": [
    "dates = data['timestamp']\n",
    "print(\"dates : \\n\", dates)"
   ]
  },
  {
   "cell_type": "code",
   "execution_count": null,
   "id": "04bceba3-84d6-4e54-9d42-1140b1d16e24",
   "metadata": {},
   "outputs": [],
   "source": []
  }
 ],
 "metadata": {
  "kernelspec": {
   "display_name": "Python 3",
   "language": "python",
   "name": "python3"
  },
  "language_info": {
   "codemirror_mode": {
    "name": "ipython",
    "version": 3
   },
   "file_extension": ".py",
   "mimetype": "text/x-python",
   "name": "python",
   "nbconvert_exporter": "python",
   "pygments_lexer": "ipython3",
   "version": "3.7.5"
  }
 },
 "nbformat": 4,
 "nbformat_minor": 5
}
